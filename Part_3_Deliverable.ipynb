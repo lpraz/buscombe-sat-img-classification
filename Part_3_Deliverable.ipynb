{
  "nbformat": 4,
  "nbformat_minor": 0,
  "metadata": {
    "colab": {
      "name": "Part_3_Deliverable.ipynb",
      "provenance": [],
      "collapsed_sections": [],
      "toc_visible": true
    },
    "kernelspec": {
      "name": "python3",
      "display_name": "Python 3"
    },
    "accelerator": "GPU"
  },
  "cells": [
    {
      "cell_type": "markdown",
      "metadata": {
        "id": "CBjgz-82TszW",
        "colab_type": "text"
      },
      "source": [
        "### Prerequisites\n",
        "\n",
        "Upload the nwpu_labels folder from the repository. It should contain three JSON files (`nwpu_lakes_20samplesA.json`, `nwpu_lakes_20samplesB.json`, `nwpu_lakes_30samples.json`)."
      ]
    },
    {
      "cell_type": "markdown",
      "metadata": {
        "id": "8qZ4p_lp8dvd",
        "colab_type": "text"
      },
      "source": [
        "#### Setup"
      ]
    },
    {
      "cell_type": "code",
      "metadata": {
        "id": "b5BMhbJQ8Lvd",
        "colab_type": "code",
        "colab": {
          "base_uri": "https://localhost:8080/",
          "height": 882
        },
        "outputId": "3d6a9e9d-547a-4079-c838-3a8284751d0f"
      },
      "source": [
        "!pip install --default-timeout=1000 tensorflow-gpu==2.0\n",
        "!pip install rasterio\n",
        "\n",
        "import tensorflow as tf\n",
        "from tensorflow.keras.layers import Input, Conv2D, MaxPooling2D, UpSampling2D\n",
        "from tensorflow.keras.layers import Concatenate, Conv2DTranspose\n",
        "from tensorflow.keras.models import Model\n",
        "from random import shuffle\n",
        "import matplotlib\n",
        "import matplotlib.pyplot as plt\n",
        "from PIL import Image, ImageDraw\n",
        "import numpy as np\n",
        "import json, os, glob\n",
        "import zipfile\n",
        "import rasterio\n",
        "import requests\n",
        "import shutil\n",
        "\n",
        "# GPU OK?\n",
        "tf.test.is_gpu_available()"
      ],
      "execution_count": null,
      "outputs": [
        {
          "output_type": "stream",
          "text": [
            "Requirement already satisfied: tensorflow-gpu==2.0 in /usr/local/lib/python3.6/dist-packages (2.0.0)\n",
            "Requirement already satisfied: wheel>=0.26 in /usr/local/lib/python3.6/dist-packages (from tensorflow-gpu==2.0) (0.35.1)\n",
            "Requirement already satisfied: keras-preprocessing>=1.0.5 in /usr/local/lib/python3.6/dist-packages (from tensorflow-gpu==2.0) (1.1.2)\n",
            "Requirement already satisfied: termcolor>=1.1.0 in /usr/local/lib/python3.6/dist-packages (from tensorflow-gpu==2.0) (1.1.0)\n",
            "Requirement already satisfied: numpy<2.0,>=1.16.0 in /usr/local/lib/python3.6/dist-packages (from tensorflow-gpu==2.0) (1.18.5)\n",
            "Requirement already satisfied: six>=1.10.0 in /usr/local/lib/python3.6/dist-packages (from tensorflow-gpu==2.0) (1.15.0)\n",
            "Requirement already satisfied: absl-py>=0.7.0 in /usr/local/lib/python3.6/dist-packages (from tensorflow-gpu==2.0) (0.8.1)\n",
            "Requirement already satisfied: gast==0.2.2 in /usr/local/lib/python3.6/dist-packages (from tensorflow-gpu==2.0) (0.2.2)\n",
            "Requirement already satisfied: tensorflow-estimator<2.1.0,>=2.0.0 in /usr/local/lib/python3.6/dist-packages (from tensorflow-gpu==2.0) (2.0.1)\n",
            "Requirement already satisfied: protobuf>=3.6.1 in /usr/local/lib/python3.6/dist-packages (from tensorflow-gpu==2.0) (3.12.4)\n",
            "Requirement already satisfied: google-pasta>=0.1.6 in /usr/local/lib/python3.6/dist-packages (from tensorflow-gpu==2.0) (0.2.0)\n",
            "Requirement already satisfied: opt-einsum>=2.3.2 in /usr/local/lib/python3.6/dist-packages (from tensorflow-gpu==2.0) (3.3.0)\n",
            "Requirement already satisfied: wrapt>=1.11.1 in /usr/local/lib/python3.6/dist-packages (from tensorflow-gpu==2.0) (1.12.1)\n",
            "Requirement already satisfied: grpcio>=1.8.6 in /usr/local/lib/python3.6/dist-packages (from tensorflow-gpu==2.0) (1.31.0)\n",
            "Requirement already satisfied: tensorboard<2.1.0,>=2.0.0 in /usr/local/lib/python3.6/dist-packages (from tensorflow-gpu==2.0) (2.0.2)\n",
            "Requirement already satisfied: astor>=0.6.0 in /usr/local/lib/python3.6/dist-packages (from tensorflow-gpu==2.0) (0.8.1)\n",
            "Requirement already satisfied: keras-applications>=1.0.8 in /usr/local/lib/python3.6/dist-packages (from tensorflow-gpu==2.0) (1.0.8)\n",
            "Requirement already satisfied: setuptools in /usr/local/lib/python3.6/dist-packages (from protobuf>=3.6.1->tensorflow-gpu==2.0) (49.6.0)\n",
            "Requirement already satisfied: markdown>=2.6.8 in /usr/local/lib/python3.6/dist-packages (from tensorboard<2.1.0,>=2.0.0->tensorflow-gpu==2.0) (3.2.2)\n",
            "Requirement already satisfied: werkzeug>=0.11.15 in /usr/local/lib/python3.6/dist-packages (from tensorboard<2.1.0,>=2.0.0->tensorflow-gpu==2.0) (1.0.1)\n",
            "Requirement already satisfied: requests<3,>=2.21.0 in /usr/local/lib/python3.6/dist-packages (from tensorboard<2.1.0,>=2.0.0->tensorflow-gpu==2.0) (2.23.0)\n",
            "Requirement already satisfied: google-auth-oauthlib<0.5,>=0.4.1 in /usr/local/lib/python3.6/dist-packages (from tensorboard<2.1.0,>=2.0.0->tensorflow-gpu==2.0) (0.4.1)\n",
            "Requirement already satisfied: google-auth<2,>=1.6.3 in /usr/local/lib/python3.6/dist-packages (from tensorboard<2.1.0,>=2.0.0->tensorflow-gpu==2.0) (1.17.2)\n",
            "Requirement already satisfied: h5py in /usr/local/lib/python3.6/dist-packages (from keras-applications>=1.0.8->tensorflow-gpu==2.0) (2.10.0)\n",
            "Requirement already satisfied: importlib-metadata; python_version < \"3.8\" in /usr/local/lib/python3.6/dist-packages (from markdown>=2.6.8->tensorboard<2.1.0,>=2.0.0->tensorflow-gpu==2.0) (1.7.0)\n",
            "Requirement already satisfied: chardet<4,>=3.0.2 in /usr/local/lib/python3.6/dist-packages (from requests<3,>=2.21.0->tensorboard<2.1.0,>=2.0.0->tensorflow-gpu==2.0) (3.0.4)\n",
            "Requirement already satisfied: urllib3!=1.25.0,!=1.25.1,<1.26,>=1.21.1 in /usr/local/lib/python3.6/dist-packages (from requests<3,>=2.21.0->tensorboard<2.1.0,>=2.0.0->tensorflow-gpu==2.0) (1.24.3)\n",
            "Requirement already satisfied: certifi>=2017.4.17 in /usr/local/lib/python3.6/dist-packages (from requests<3,>=2.21.0->tensorboard<2.1.0,>=2.0.0->tensorflow-gpu==2.0) (2020.6.20)\n",
            "Requirement already satisfied: idna<3,>=2.5 in /usr/local/lib/python3.6/dist-packages (from requests<3,>=2.21.0->tensorboard<2.1.0,>=2.0.0->tensorflow-gpu==2.0) (2.10)\n",
            "Requirement already satisfied: requests-oauthlib>=0.7.0 in /usr/local/lib/python3.6/dist-packages (from google-auth-oauthlib<0.5,>=0.4.1->tensorboard<2.1.0,>=2.0.0->tensorflow-gpu==2.0) (1.3.0)\n",
            "Requirement already satisfied: cachetools<5.0,>=2.0.0 in /usr/local/lib/python3.6/dist-packages (from google-auth<2,>=1.6.3->tensorboard<2.1.0,>=2.0.0->tensorflow-gpu==2.0) (4.1.1)\n",
            "Requirement already satisfied: rsa<5,>=3.1.4; python_version >= \"3\" in /usr/local/lib/python3.6/dist-packages (from google-auth<2,>=1.6.3->tensorboard<2.1.0,>=2.0.0->tensorflow-gpu==2.0) (4.6)\n",
            "Requirement already satisfied: pyasn1-modules>=0.2.1 in /usr/local/lib/python3.6/dist-packages (from google-auth<2,>=1.6.3->tensorboard<2.1.0,>=2.0.0->tensorflow-gpu==2.0) (0.2.8)\n",
            "Requirement already satisfied: zipp>=0.5 in /usr/local/lib/python3.6/dist-packages (from importlib-metadata; python_version < \"3.8\"->markdown>=2.6.8->tensorboard<2.1.0,>=2.0.0->tensorflow-gpu==2.0) (3.1.0)\n",
            "Requirement already satisfied: oauthlib>=3.0.0 in /usr/local/lib/python3.6/dist-packages (from requests-oauthlib>=0.7.0->google-auth-oauthlib<0.5,>=0.4.1->tensorboard<2.1.0,>=2.0.0->tensorflow-gpu==2.0) (3.1.0)\n",
            "Requirement already satisfied: pyasn1>=0.1.3 in /usr/local/lib/python3.6/dist-packages (from rsa<5,>=3.1.4; python_version >= \"3\"->google-auth<2,>=1.6.3->tensorboard<2.1.0,>=2.0.0->tensorflow-gpu==2.0) (0.4.8)\n",
            "Requirement already satisfied: rasterio in /usr/local/lib/python3.6/dist-packages (1.1.5)\n",
            "Requirement already satisfied: click-plugins in /usr/local/lib/python3.6/dist-packages (from rasterio) (1.1.1)\n",
            "Requirement already satisfied: cligj>=0.5 in /usr/local/lib/python3.6/dist-packages (from rasterio) (0.5.0)\n",
            "Requirement already satisfied: snuggs>=1.4.1 in /usr/local/lib/python3.6/dist-packages (from rasterio) (1.4.7)\n",
            "Requirement already satisfied: affine in /usr/local/lib/python3.6/dist-packages (from rasterio) (2.3.0)\n",
            "Requirement already satisfied: numpy in /usr/local/lib/python3.6/dist-packages (from rasterio) (1.18.5)\n",
            "Requirement already satisfied: attrs in /usr/local/lib/python3.6/dist-packages (from rasterio) (20.1.0)\n",
            "Requirement already satisfied: click<8,>=4.0 in /usr/local/lib/python3.6/dist-packages (from rasterio) (7.1.2)\n",
            "Requirement already satisfied: pyparsing>=2.1.6 in /usr/local/lib/python3.6/dist-packages (from snuggs>=1.4.1->rasterio) (2.4.7)\n"
          ],
          "name": "stdout"
        },
        {
          "output_type": "execute_result",
          "data": {
            "text/plain": [
              "True"
            ]
          },
          "metadata": {
            "tags": []
          },
          "execution_count": 19
        }
      ]
    },
    {
      "cell_type": "markdown",
      "metadata": {
        "id": "cXXXa7vexS8y",
        "colab_type": "text"
      },
      "source": [
        "#### Hyperparameters"
      ]
    },
    {
      "cell_type": "code",
      "metadata": {
        "id": "4RPeymBWxURg",
        "colab_type": "code",
        "colab": {}
      },
      "source": [
        "batch_size = 4 # Number of images to pass to each model training epoch\n",
        "prop_train = 0.5 # Proportion of all images to use for training\n",
        "num_epochs = 100\n",
        "img_size = 124"
      ],
      "execution_count": null,
      "outputs": []
    },
    {
      "cell_type": "markdown",
      "metadata": {
        "id": "Gqjx169epWSM",
        "colab_type": "text"
      },
      "source": [
        "### Datasets"
      ]
    },
    {
      "cell_type": "markdown",
      "metadata": {
        "id": "YTUZcTuDsi0g",
        "colab_type": "text"
      },
      "source": [
        "#### Download imagery"
      ]
    },
    {
      "cell_type": "code",
      "metadata": {
        "id": "slwiF3obqdXZ",
        "colab_type": "code",
        "colab": {}
      },
      "source": [
        "def get_file(id, destination):\n",
        "    def get_confirm_token(response):\n",
        "        for key, value in response.cookies.items():\n",
        "            if key.startswith('download_warning'):\n",
        "                return value\n",
        "        \n",
        "        return None\n",
        "    \n",
        "    def save_response_content(response, destination):\n",
        "        CHUNK_SIZE = 32768\n",
        "        \n",
        "        with open(destination, 'wb') as f:\n",
        "            for chunk in response.iter_content(CHUNK_SIZE):\n",
        "                if chunk: # Filter out keep-alive new chunks\n",
        "                    f.write(chunk)\n",
        "    \n",
        "    URL = 'https://docs.google.com/uc?export=download'\n",
        "    \n",
        "    session = requests.Session()\n",
        "    \n",
        "    response = session.get(URL, params = { 'id' : id }, stream = True)\n",
        "    token = get_confirm_token(response)\n",
        "    \n",
        "    if token:\n",
        "        params = { 'id' : id, 'confirm' : token }\n",
        "        response = session.get(URL, params = params, stream = True)\n",
        "    \n",
        "    save_response_content(response, destination)"
      ],
      "execution_count": null,
      "outputs": []
    },
    {
      "cell_type": "code",
      "metadata": {
        "id": "Yk3IOFtZrjVw",
        "colab_type": "code",
        "colab": {}
      },
      "source": [
        "def unzip(f):\n",
        "    with zipfile.ZipFile(f, 'r') as zip_ref:\n",
        "        zip_ref.extractall()"
      ],
      "execution_count": null,
      "outputs": []
    },
    {
      "cell_type": "code",
      "metadata": {
        "id": "iaoNuB6zrMYr",
        "colab_type": "code",
        "colab": {}
      },
      "source": [
        "# Download imagery\n",
        "get_file('14kkcuU6wd9UMvjaDrg3PNI-e_voCi8HL', 'NWPU_images.zip')\n",
        "unzip('NWPU_images.zip')"
      ],
      "execution_count": null,
      "outputs": []
    },
    {
      "cell_type": "code",
      "metadata": {
        "id": "32QiNFj2-rXY",
        "colab_type": "code",
        "colab": {}
      },
      "source": [
        "# Delete non-lake \n",
        "try:\n",
        "    os.rename('images', 'nwpu_images')\n",
        "except:\n",
        "    pass\n",
        "\n",
        "subdirs = [x[0] for x in os.walk('nwpu_images')][1:]\n",
        "to_delete = [s for s in subdirs if 'lake' not in s]\n",
        "for k in to_delete:\n",
        "    shutil.rmtree(k, ignore_errors = True)\n",
        "os.rename('nwpu_images' + os.sep + 'lake', 'nwpu_images' + os.sep + 'data')"
      ],
      "execution_count": null,
      "outputs": []
    },
    {
      "cell_type": "markdown",
      "metadata": {
        "id": "vyA_1sTd_qFM",
        "colab_type": "text"
      },
      "source": [
        "#### Generate masks from polygons"
      ]
    },
    {
      "cell_type": "code",
      "metadata": {
        "id": "qmfgzjKE_hI9",
        "colab_type": "code",
        "colab": {}
      },
      "source": [
        "# Make directories for NWPU label images\n",
        "os.mkdir('nwpu_label_images')\n",
        "os.mkdir('nwpu_label_images' + os.sep + 'data')"
      ],
      "execution_count": null,
      "outputs": []
    },
    {
      "cell_type": "code",
      "metadata": {
        "id": "qJpZON2k_tHm",
        "colab_type": "code",
        "colab": {}
      },
      "source": [
        "def get_data(data):\n",
        "    X = []\n",
        "    Y = []\n",
        "    for k in data['regions']:\n",
        "        X.append(data['regions'][k]['shape_attributes']['all_points_x'])\n",
        "        Y.append(data['regions'][k]['shape_attributes']['all_points_y'])\n",
        "    return Y, X # Image coords flipped relative to JSON coords\n",
        "\n",
        "def write_mask(data, images, all_images, i):\n",
        "    X, Y = get_data(data[images[i]])\n",
        "    nx, ny, nz = np.shape(all_images[i])\n",
        "    mask = np.zeros((ny, nx))\n",
        "\n",
        "    for x, y in zip(X, Y):\n",
        "        polygon = np.vstack((x, y)).reshape((-1,), order = 'F').tolist()\n",
        "        \n",
        "        if nx > ny or ny > nx:\n",
        "            x, y = y, x\n",
        "            img = Image.new('L', (ny, nx), 0)\n",
        "        else:\n",
        "            img = Image.new('L', (nx , ny), 0)\n",
        "        \n",
        "        ImageDraw.Draw(img).polygon(polygon, outline = 1, fill = 1)\n",
        "\n",
        "        m = np.flipud(np.rot90(np.array(img)))\n",
        "        try:\n",
        "            mask = mask + m\n",
        "        except:\n",
        "            mask = mask + m.T\n",
        "    \n",
        "    matplotlib.image.imsave('nwpu_label_images' + os.sep + 'data' + os.sep + images[i] + '_mask.jpg', mask.astype('uint8'))"
      ],
      "execution_count": null,
      "outputs": []
    },
    {
      "cell_type": "markdown",
      "metadata": {
        "id": "R38Mk0EUBHU2",
        "colab_type": "text"
      },
      "source": [
        "#### Load from VGG-JSON"
      ]
    },
    {
      "cell_type": "code",
      "metadata": {
        "id": "jklIP6VWBJw8",
        "colab_type": "code",
        "colab": {
          "base_uri": "https://localhost:8080/",
          "height": 74
        },
        "outputId": "16494b06-b53d-4b5f-bf6d-04bcd6eb4f95"
      },
      "source": [
        "data = []\n",
        "json_file = 'nwpu_labels' + os.sep + 'nwpu_lakes_30samples.json'\n",
        "data.append(json.load(open(json_file)))\n",
        "json_file = 'nwpu_labels' + os.sep + 'nwpu_lakes_20samplesA.json'\n",
        "data.append(json.load(open(json_file)))\n",
        "json_file = 'nwpu_labels' + os.sep + 'nwpu_lakes_20samplesB.json'\n",
        "data.append(json.load(open(json_file)))\n",
        "\n",
        "data_merged = {}\n",
        "for d in data:\n",
        "    data_merged.update(d)\n",
        "\n",
        "images = sorted(data_merged.keys())\n",
        "print(images)\n",
        "print(len(images))"
      ],
      "execution_count": null,
      "outputs": [
        {
          "output_type": "stream",
          "text": [
            "['lake_001.jpg', 'lake_002.jpg', 'lake_003.jpg', 'lake_004.jpg', 'lake_005.jpg', 'lake_006.jpg', 'lake_007.jpg', 'lake_008.jpg', 'lake_009.jpg', 'lake_010.jpg', 'lake_011.jpg', 'lake_012.jpg', 'lake_013.jpg', 'lake_014.jpg', 'lake_015.jpg', 'lake_016.jpg', 'lake_017.jpg', 'lake_018.jpg', 'lake_019.jpg', 'lake_020.jpg', 'lake_021.jpg', 'lake_022.jpg', 'lake_023.jpg', 'lake_024.jpg', 'lake_025.jpg', 'lake_026.jpg', 'lake_028.jpg', 'lake_029.jpg', 'lake_030.jpg', 'lake_031.jpg', 'lake_032.jpg', 'lake_033.jpg', 'lake_034.jpg', 'lake_035.jpg', 'lake_036.jpg', 'lake_037.jpg', 'lake_038.jpg', 'lake_039.jpg', 'lake_040.jpg', 'lake_041.jpg', 'lake_042.jpg', 'lake_043.jpg', 'lake_044.jpg', 'lake_045.jpg', 'lake_046.jpg', 'lake_047.jpg', 'lake_048.jpg', 'lake_049.jpg', 'lake_050.jpg', 'lake_051.jpg', 'lake_052.jpg', 'lake_053.jpg', 'lake_054.jpg', 'lake_055.jpg', 'lake_056.jpg', 'lake_057.jpg', 'lake_058.jpg', 'lake_059.jpg', 'lake_060.jpg', 'lake_061.jpg', 'lake_642.jpg', 'lake_648.jpg', 'lake_660.jpg', 'lake_678.jpg', 'lake_681.jpg', 'lake_682.jpg', 'lake_690.jpg', 'lake_693.jpg', 'lake_694.jpg', 'lake_695.jpg']\n",
            "70\n"
          ],
          "name": "stdout"
        }
      ]
    },
    {
      "cell_type": "code",
      "metadata": {
        "id": "j4MghldiBv_d",
        "colab_type": "code",
        "colab": {
          "base_uri": "https://localhost:8080/",
          "height": 54
        },
        "outputId": "6938ca69-f4a6-4947-e941-67a1f9016182"
      },
      "source": [
        "all_images = []\n",
        "for image in images:\n",
        "    with rasterio.open('nwpu_images' + os.sep + 'data' + os.sep + image) as dataset:\n",
        "        all_images.append(dataset.read().T)"
      ],
      "execution_count": null,
      "outputs": [
        {
          "output_type": "stream",
          "text": [
            "/usr/local/lib/python3.6/dist-packages/rasterio/__init__.py:218: NotGeoreferencedWarning: Dataset has no geotransform set. The identity matrix may be returned.\n",
            "  s = DatasetReader(path, driver=driver, sharing=sharing, **kwargs)\n"
          ],
          "name": "stderr"
        }
      ]
    },
    {
      "cell_type": "code",
      "metadata": {
        "id": "GbUYUEqYUuvz",
        "colab_type": "code",
        "colab": {}
      },
      "source": [
        "for i in range(len(images)):\n",
        "    write_mask(data_merged, images, all_images, i)"
      ],
      "execution_count": null,
      "outputs": []
    },
    {
      "cell_type": "markdown",
      "metadata": {
        "id": "-lH0Q9a4sscB",
        "colab_type": "text"
      },
      "source": [
        "#### Dataset generators"
      ]
    },
    {
      "cell_type": "code",
      "metadata": {
        "id": "Gq-ml02tsvia",
        "colab_type": "code",
        "colab": {}
      },
      "source": [
        "def image_batch_generator(files, batch_size = 32, sz = (512, 512)):\n",
        "    while True: # loop as many times as the training function calls it\n",
        "        # Extract a random subset of files of length batch_size\n",
        "        batch = np.random.choice(files, size=batch_size)\n",
        "\n",
        "        batch_in = []\n",
        "        batch_out = []\n",
        "\n",
        "        # Cycle through each image in the batch\n",
        "        for f in batch:\n",
        "        # Preprocess raw images\n",
        "            rawfile = f'nwpu_images/data/{f}'\n",
        "            raw = Image.open(rawfile)\n",
        "            raw = raw.resize(sz)\n",
        "            raw = np.array(raw)\n",
        "\n",
        "            # Check the number of channels (some may be RGBA, some may be grayscale)\n",
        "            if len(raw.shape) == 2:\n",
        "                raw = np.stack((raw,) * 3, axis = -1)\n",
        "            else:\n",
        "                raw = raw[:, :, 0:3]\n",
        "            \n",
        "            # Crop the image square based on min(height, width)\n",
        "            nx, ny, nz = np.shape(raw)\n",
        "            n = np.minimum(nx, ny)\n",
        "            raw = raw[:n, :n, :]\n",
        "\n",
        "            batch_x.append(raw)\n",
        "\n",
        "            # Get masks\n",
        "            maskfile = rawfile.replace('nwpu_images', 'nwpu_label_images') + '_mask.jpg'\n",
        "            mask = Image.open(maskfile)\n",
        "            mask = np.max(np.array(mask.resize(sz)), axis = 2) # Flatten 3D mask to 2D\n",
        "            mask = (mask > 100).astype('int') # Water pixels are always > 100\n",
        "\n",
        "            mask = mask[:n, :n]\n",
        "\n",
        "            batch_y.append(mask)\n",
        "        \n",
        "        # Preprocess batch\n",
        "        batch_x = np.array(batch_x) / 255 # Normalize to [0, 1]\n",
        "        batch_y = np.array(batch_y)\n",
        "        batch_y = np.expand_dims(batch_y, 3) # Add singleton dimension\n",
        "\n",
        "        yield (batch_x, batch_y) # Yield images and labels together"
      ],
      "execution_count": null,
      "outputs": []
    },
    {
      "cell_type": "markdown",
      "metadata": {
        "id": "WTDYfvpE5Ttd",
        "colab_type": "text"
      },
      "source": [
        "#### Split"
      ]
    },
    {
      "cell_type": "code",
      "metadata": {
        "id": "CQKsihBBw4rT",
        "colab_type": "code",
        "colab": {}
      },
      "source": [
        "split = int(prop_train * len(images))\n",
        "train_files = images[:split]\n",
        "test_files = images[split:]\n",
        "\n",
        "train_generator = image_batch_generator(train_files, batch_size = batch_size)\n",
        "test_generator = image_batch_generator(test_files, batch_size = batch_size)"
      ],
      "execution_count": null,
      "outputs": []
    },
    {
      "cell_type": "markdown",
      "metadata": {
        "id": "qrYvp2CFyRJp",
        "colab_type": "text"
      },
      "source": [
        "#### Augmentation"
      ]
    },
    {
      "cell_type": "code",
      "metadata": {
        "id": "g0o_39QKzJg9",
        "colab_type": "code",
        "colab": {
          "base_uri": "https://localhost:8080/",
          "height": 54
        },
        "outputId": "306cada7-d03f-47b0-fbd8-2bee3b9a9f23"
      },
      "source": [
        "seed = 42\n",
        "\n",
        "img_datagen = tf.keras.preprocessing.image.ImageDataGenerator(\n",
        "    featurewise_center=False,\n",
        "    featurewise_std_normalization=False,\n",
        "    shear_range=0,\n",
        "    zoom_range=0,\n",
        "    rotation_range=90,\n",
        "    horizontal_flip=True)\n",
        "\n",
        "img_generator = img_datagen.flow_from_directory(\n",
        "    'nwpu_images',\n",
        "    target_size=(128, 128),\n",
        "    batch_size = 1,\n",
        "    class_mode = None,\n",
        "    seed = seed,\n",
        "    shuffle = False)\n",
        "\n",
        "mask_datagen = tf.keras.preprocessing.image.ImageDataGenerator(\n",
        "    featurewise_center=False,\n",
        "    featurewise_std_normalization=False,\n",
        "    shear_range=0,\n",
        "    zoom_range=0,\n",
        "    rotation_range=90,\n",
        "    horizontal_flip=True)\n",
        "\n",
        "mask_generator = mask_datagen.flow_from_directory(\n",
        "    'nwpu_label_images',\n",
        "    target_size = (128, 128),\n",
        "    batch_size = 1,\n",
        "    class_mode = None,\n",
        "    seed = seed,\n",
        "    shuffle = False)\n",
        "\n",
        "train_generator = (pair for pair in zip(img_generator, mask_generator))"
      ],
      "execution_count": null,
      "outputs": [
        {
          "output_type": "stream",
          "text": [
            "Found 700 images belonging to 1 classes.\n",
            "Found 70 images belonging to 1 classes.\n"
          ],
          "name": "stdout"
        }
      ]
    },
    {
      "cell_type": "markdown",
      "metadata": {
        "id": "_wcNm52iP8XK",
        "colab_type": "text"
      },
      "source": [
        "### Test"
      ]
    },
    {
      "cell_type": "code",
      "metadata": {
        "id": "tlGiSgiwQA2T",
        "colab_type": "code",
        "colab": {
          "base_uri": "https://localhost:8080/",
          "height": 286
        },
        "outputId": "0776cc45-741a-4ab0-9cf3-0779ed061082"
      },
      "source": [
        "x, y = next(train_generator)\n",
        "\n",
        "%matplotlib inline\n",
        "plt.imshow((x[0]).astype('uint8'), cmap = 'gray')\n",
        "plt.imshow(np.max(y[0], axis = 2) / 255, cmap = 'gray', alpha = 0.5)"
      ],
      "execution_count": null,
      "outputs": [
        {
          "output_type": "execute_result",
          "data": {
            "text/plain": [
              "<matplotlib.image.AxesImage at 0x7f50a2d00f60>"
            ]
          },
          "metadata": {
            "tags": []
          },
          "execution_count": 40
        },
        {
          "output_type": "display_data",
          "data": {
            "image/png": "[encoded data removed]",
            "text/plain": [
              "<Figure size 432x288 with 1 Axes>"
            ]
          },
          "metadata": {
            "tags": [],
            "needs_background": "light"
          }
        }
      ]
    },
    {
      "cell_type": "code",
      "metadata": {
        "id": "xY4l23OjQQGh",
        "colab_type": "code",
        "colab": {}
      },
      "source": [
        "n_aug_files = 500\n",
        "\n",
        "# Merge the two generators together, scaling each image to [0, 1]\n",
        "train_generator2 = (tuple(np.array(pair, dtype = 'float64') / 255) for pair in zip(img_generator, mask_generator))\n",
        "\n",
        "for i in range(0, n_aug_files):\n",
        "    x, y = next(train_generator2)\n",
        "    matplotlib.image.imsave('nwpu_label_images' + os.sep + 'data' + os.sep + 'augimage00' + str(i) + '.jpg_mask.jpg', np.squeeze(y[0]))\n",
        "    matplotlib.image.imsave('nwpu_images' + os.sep + 'data' + os.sep + 'augimage00' + str(i) + '.jpg', np.squeeze(x[0]))"
      ],
      "execution_count": null,
      "outputs": []
    }
  ]
}